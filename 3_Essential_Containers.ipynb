{
  "nbformat": 4,
  "nbformat_minor": 0,
  "metadata": {
    "colab": {
      "name": "3-Essential_Containers.ipynb",
      "provenance": [],
      "authorship_tag": "ABX9TyPhkp/JVPEWV4dlfYlzDEnK",
      "include_colab_link": true
    },
    "kernelspec": {
      "name": "python3",
      "display_name": "Python 3"
    },
    "language_info": {
      "name": "python"
    }
  },
  "cells": [
    {
      "cell_type": "markdown",
      "metadata": {
        "id": "view-in-github",
        "colab_type": "text"
      },
      "source": [
        "<a href=\"https://colab.research.google.com/github/puneet-panwar/Andrew-NG-Notes/blob/master/3_Essential_Containers.ipynb\" target=\"_parent\"><img src=\"https://colab.research.google.com/assets/colab-badge.svg\" alt=\"Open In Colab\"/></a>"
      ]
    },
    {
      "cell_type": "markdown",
      "source": [
        "# <font color='#f1c40f'>3. Essential Containers </font> \n",
        "\n",
        "<font color='#DC88AB'> **Containers:** </font>\n",
        "\n",
        "Python comes with a suite of built-in data containers. *Containers* are the data types that are used to hold many other variables. \n",
        "\n",
        "Major containers that Python supports are list, tuple, set, frozenset, and dict.\n",
        "\n",
        "Before we dive in, there are two important Python concepts to understand:\n",
        "\n",
        "1. <font color='#27ae60'>**Mutability:**</font>  \n",
        "  - a data type is mutable if its value is allowed to change after it has been created. \n",
        "  - On the other hand, a data type is ***immutable*** if its values are static\n",
        "and unchangeable once it is created.\n",
        "  - Data types like- int, float, bool, and str are immutable. \n",
        "  - It does not make sense to change the value of 1. It just is 1, and so integers are immutable.\n",
        "\n",
        "2. <font color='#27ae60'>**Duck typing:**</font>  \n",
        "  - “If it walks like a duck, and it quacks like a duck, then it must be a duck.”\n",
        "  - Duck typing is a concept related to dynamic typing, where the type or the class of an object is less important than the methods it defines. When you use duck typing, you do not check types at all. Instead, you check for the presence of a given method or attribute. \n",
        "  - For example, you can call len() on any Python object that defines a .\\_\\_len\\_\\_() method:\n",
        "\n",
        "Containers are partially defined by whether they are mutable or not, and this\n",
        "determines where and how they are used. \n"
      ],
      "metadata": {
        "id": "-FR0ZAUzf_ae"
      }
    },
    {
      "cell_type": "code",
      "execution_count": 1,
      "metadata": {
        "id": "BpwwV0Hqf8Zx",
        "colab": {
          "base_uri": "https://localhost:8080/"
        },
        "outputId": "c6b347e6-09a0-4212-c110-ce90df80236c"
      },
      "outputs": [
        {
          "output_type": "execute_result",
          "data": {
            "text/plain": [
              "95022"
            ]
          },
          "metadata": {},
          "execution_count": 1
        }
      ],
      "source": [
        "class TheHobbit:\n",
        "    def __len__(self):\n",
        "       return 95022\n",
        "\n",
        "the_hobbit = TheHobbit()\n",
        "\n",
        "the_hobbit\n",
        "\n",
        "\n",
        "len(the_hobbit)\n",
        "95022\n"
      ]
    },
    {
      "cell_type": "code",
      "source": [
        "my_str = \"Hello World\"\n",
        "my_list = [34, 54, 65, 78]\n",
        "my_dict = {\"one\":123, \"two\":456, \"three\": 789}\n",
        "\n",
        "print(len(my_str))\n",
        "print(len(my_list))\n",
        "print(len(the_hobbit))\n"
      ],
      "metadata": {
        "colab": {
          "base_uri": "https://localhost:8080/"
        },
        "id": "-PzvPwuHsCld",
        "outputId": "595c3972-819a-43ff-8faa-d678ebbe01e1"
      },
      "execution_count": 2,
      "outputs": [
        {
          "output_type": "stream",
          "name": "stdout",
          "text": [
            "11\n",
            "4\n",
            "95022\n"
          ]
        }
      ]
    },
    {
      "cell_type": "code",
      "source": [
        "my_int = 7\n",
        "my_float = 223.2\n",
        "\n",
        "print(len(my_int))"
      ],
      "metadata": {
        "colab": {
          "base_uri": "https://localhost:8080/",
          "height": 202
        },
        "id": "kokJTNDwssED",
        "outputId": "679a7eea-0bdf-4c79-fdb2-5655d0cb9ec9"
      },
      "execution_count": 3,
      "outputs": [
        {
          "output_type": "error",
          "ename": "TypeError",
          "evalue": "ignored",
          "traceback": [
            "\u001b[0;31m---------------------------------------------------------------------------\u001b[0m",
            "\u001b[0;31mTypeError\u001b[0m                                 Traceback (most recent call last)",
            "\u001b[0;32m<ipython-input-3-5a069f0e909a>\u001b[0m in \u001b[0;36m<module>\u001b[0;34m()\u001b[0m\n\u001b[1;32m      2\u001b[0m \u001b[0mmy_float\u001b[0m \u001b[0;34m=\u001b[0m \u001b[0;36m223.2\u001b[0m\u001b[0;34m\u001b[0m\u001b[0;34m\u001b[0m\u001b[0m\n\u001b[1;32m      3\u001b[0m \u001b[0;34m\u001b[0m\u001b[0m\n\u001b[0;32m----> 4\u001b[0;31m \u001b[0mprint\u001b[0m\u001b[0;34m(\u001b[0m\u001b[0mlen\u001b[0m\u001b[0;34m(\u001b[0m\u001b[0mmy_int\u001b[0m\u001b[0;34m)\u001b[0m\u001b[0;34m)\u001b[0m\u001b[0;34m\u001b[0m\u001b[0;34m\u001b[0m\u001b[0m\n\u001b[0m",
            "\u001b[0;31mTypeError\u001b[0m: object of type 'int' has no len()"
          ]
        }
      ]
    },
    {
      "cell_type": "markdown",
      "source": [
        "In order for you to call len(obj), the only real constraint on obj is that it must define a .\\_\\_len\\_\\_() method. Otherwise, the object can be of types as different as str, list, dict, or TheHobbit.\n",
        "\n",
        "The whole point of duck\n",
        "typing is that the syntax of an operator should not change just because the type of the\n",
        "underlying variable changes. This notion highlights one of the things that makes\n",
        "Python easier to learn than other languages."
      ],
      "metadata": {
        "id": "fn3vvYoetGvl"
      }
    }
  ]
}